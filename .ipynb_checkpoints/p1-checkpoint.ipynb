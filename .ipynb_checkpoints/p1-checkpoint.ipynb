{
 "cells": [
  {
   "cell_type": "markdown",
   "metadata": {},
   "source": [
    "# 亲和性分析示例\n",
    "\n",
    "亲和性分析是根据样本个体之间的相似度，确定它们关系的亲疏。\n",
    "比如：向网站用户提供多样化的服务或定向投放广告\n",
    "\n",
    "亲和性还有多种测量方法，比如，统计两件商品一起出售的概率，或者统计用户购买了商品1后再购买商品2的比率。\n",
    "\n",
    "下面具体分析下如何计算个体之间的相似度。\n",
    "\n",
    "场景：\n",
    "一个人去超市买东西，买了面包后又买了牛奶。\n",
    "作为数据挖掘入门性质的例子，我们希望得到下面这样的规则：\n",
    "“如果一个人买了商品X,那么他可能购买Y”\n",
    "\n",
    "\n",
    "下面我们导入具体的数据集"
   ]
  },
  {
   "cell_type": "code",
   "execution_count": 23,
   "metadata": {},
   "outputs": [
    {
     "name": "stdout",
     "output_type": "stream",
     "text": [
      "100\n",
      "5\n"
     ]
    }
   ],
   "source": [
    "import numpy as np\n",
    "dataset_filename = \"dataset.txt\"\n",
    "datas = np.loadtxt(dataset_filename)\n",
    "n_samples, n_features = data.shape\n",
    "print(n_samples) # 行数\n",
    "print(n_features) # 列数"
   ]
  },
  {
   "cell_type": "markdown",
   "metadata": {},
   "source": [
    "dataset.txt的文件请从后面提供的git地址上下载"
   ]
  },
  {
   "cell_type": "code",
   "execution_count": 24,
   "metadata": {},
   "outputs": [
    {
     "name": "stdout",
     "output_type": "stream",
     "text": [
      "[[0. 0. 1. 1. 1.]\n",
      " [1. 1. 0. 1. 0.]\n",
      " [1. 0. 1. 1. 0.]\n",
      " [0. 0. 1. 1. 1.]\n",
      " [0. 1. 0. 0. 1.]]\n"
     ]
    }
   ],
   "source": [
    "print(datas[:5])"
   ]
  },
  {
   "cell_type": "markdown",
   "metadata": {},
   "source": [
    "每行代表用户每次购买的5个商品\n",
    "假设每列分别代表面包、牛奶、奶酪、苹果和香蕉\n",
    "比如第一行是[0. 0. 1. 1. 1.]\n",
    "代表用户买了奶酪、苹果和香蕉，没有买面包、牛奶\n",
    "1-> 表示买了该商品\n",
    "0-> 表示没有买该商品"
   ]
  },
  {
   "cell_type": "code",
   "execution_count": 73,
   "metadata": {},
   "outputs": [],
   "source": [
    "products_name = [\"面包\", \"牛奶\", \"奶酪\", \"苹果\", \"香蕉\"]"
   ]
  },
  {
   "cell_type": "markdown",
   "metadata": {},
   "source": [
    "## 实现简单的排序规则\n",
    "\n",
    "如果要找出\"如果一个人买了商品X,那么他可能购买Y\"这样的规则。\n",
    "简单的办法就是找出数据集中所有同时购买两件商品的情况，找到规则后，我们还需要判断规则的优劣，最后选择最优的。\n",
    "\n",
    "规则的优劣有多种衡量方法，常用的方法有“支持度”和“置信度”\n",
    "\n",
    "支持度指数据集里面规则有效的次数，统计起来很简单。\n",
    "有时候，还需要对支持度进行规范化，即再除以规则有效的总数量。\n",
    "我们这里只简单统计规则有效的次数。\n",
    "\n",
    "支持度衡量的是给定规则有效的比例，而置信度衡量的则是规则有效准确率，即符合给定条件(即规则的“如果”语句所表示的前提条件)的所有规则里，跟当前规则结论一致的比例有多大。\n",
    "计算方法为首先统计当前规则的出现次数，再用它来除以条件(“如果”语句)相同的规则数量\n",
    "\n",
    "如下面的代码所示，通过判断交易数据中data[3]的值，就能知道一个顾客是否买了苹果。 这里，data表示一条交易信息，也就是数据集里的一行数据。"
   ]
  },
  {
   "cell_type": "code",
   "execution_count": 25,
   "metadata": {},
   "outputs": [
    {
     "name": "stdout",
     "output_type": "stream",
     "text": [
      "36人买了苹果\n"
     ]
    }
   ],
   "source": [
    "purchase_apple_sum = 0 # 购买苹果的人数\n",
    "for data in datas:\n",
    "    if data[3] == 1: # 购买了苹果\n",
    "        purchase_apple_sum += 1 # 计算购买了苹果的人数\n",
    "        \n",
    "print(\"{0}人买了苹果\".format(purchase_apple_sum))"
   ]
  },
  {
   "cell_type": "code",
   "execution_count": 28,
   "metadata": {},
   "outputs": [
    {
     "name": "stdout",
     "output_type": "stream",
     "text": [
      "21人同时购买了苹果和香蕉\n",
      "0人只购买了苹果没有购买香蕉\n"
     ]
    }
   ],
   "source": [
    "'''\n",
    "有多少人买了苹果有买了香蕉呢\n",
    "'''\n",
    "valid_rule = 0 # 符合规则的有效次数\n",
    "invalid_rule = 0 # 不符合规则的有效次数\n",
    "purchase_apple_not_banana_num = 0\n",
    "for data in datas:\n",
    "    if data[3] == 1: # 购买了苹果\n",
    "        if data[4] == 1: # 购买了香蕉\n",
    "            valid_rule += 1 # 计算购买苹果和香蕉的人数\n",
    "        else:\n",
    "            invalid_rule += 1 # 计算购买苹果没有购买香蕉的人数\n",
    "print(\"{0}人同时购买了苹果和香蕉\".format(purchase_apple_and_banana_num))\n",
    "print(\"{0}人只购买了苹果没有购买香蕉\".format(purchase_apple_not_banana_num))"
   ]
  },
  {
   "cell_type": "code",
   "execution_count": 31,
   "metadata": {},
   "outputs": [
    {
     "name": "stdout",
     "output_type": "stream",
     "text": [
      "支持度是21, 置信度是0.583\n",
      "置信度的百分比是58.3%\n"
     ]
    }
   ],
   "source": [
    "'''\n",
    "现在有了所有需要的数据，我们就可以计算支持度和置信度\n",
    "'''\n",
    "# 支持度就是 符合规则有效的次数\n",
    "support_degree = valid_rule\n",
    "# 置信度\n",
    "confidence_degree = valid_rule / purchase_apple_sum\n",
    "print(\"支持度是{0}, 置信度是{1:0.3f}\".format(support_degree, confidence_degree))\n",
    "# 置信度可以用百分比来表示\n",
    "print(\"置信度的百分比是{0:0.1f}%\".format(confidence_degree * 100))"
   ]
  },
  {
   "cell_type": "markdown",
   "metadata": {},
   "source": [
    "为了计算所有规则的置信度和支持度，首先创建一个字典，用来存放计算结果。\n",
    "需要统计的量有\n",
    "1、有效规则\n",
    "2、无效规则\n",
    "3、条件相同的规则数量"
   ]
  },
  {
   "cell_type": "code",
   "execution_count": 57,
   "metadata": {},
   "outputs": [],
   "source": [
    "'''\n",
    "对于上面的符合要求的，即同时购买了苹果和香蕉的标识符合我们的规则，反之不符合我们的规则，按照此逻辑我们找出所有有效规则\n",
    "'''\n",
    "from collections import defaultdict\n",
    "valid_rules = defaultdict(int) # 有效规则\n",
    "invalid_rules = defaultdict(int) # 无效规则\n",
    "num_occurances = defaultdict(int) # 规则数量\n",
    "\n",
    "for data in datas:\n",
    "    for fruit in range(n_features):\n",
    "        # 首先检查个体是否符合规则【购买的规则，没有购买的就直接跳过】\n",
    "        if data[fruit] == 0: # 不符合规则，继续下一个循环 \n",
    "            continue\n",
    "        num_occurances[fruit] += 1 # 符合规则加1\n",
    "        \n",
    "        for also_fruit in range(n_features):\n",
    "            if fruit == also_fruit: # 跳过不符合要求的，即我们想要的是买了x水果又买了y水果，而不是买了x水果又买了x水果\n",
    "                continue\n",
    "            if data[also_fruit] == 1:\n",
    "                valid_rules[(fruit, also_fruit)] += 1\n",
    "                \n",
    "            else:\n",
    "                invalid_rules[(fruit, also_fruit)] += 1\n",
    "                \n",
    "support_degrees = valid_rules\n",
    "confidence_degrees = defaultdict(float)\n",
    "for fruit, also_fruit in valid_rules.keys():\n",
    "    confidence_degrees[(fruit, also_fruit)] = valid_rules[(fruit, also_fruit)] / num_occurances[fruit]\n",
    "    "
   ]
  },
  {
   "cell_type": "code",
   "execution_count": 60,
   "metadata": {},
   "outputs": [
    {
     "name": "stdout",
     "output_type": "stream",
     "text": [
      "规则: 如果一个人买了商品【奶酪】，那么他可能买商品【苹果】\n",
      " - 置信度是: 0.610\n",
      " - 支持度是: 25\n",
      "规则: 如果一个人买了商品【奶酪】，那么他可能买商品【香蕉】\n",
      " - 置信度是: 0.659\n",
      " - 支持度是: 27\n",
      "规则: 如果一个人买了商品【苹果】，那么他可能买商品【奶酪】\n",
      " - 置信度是: 0.694\n",
      " - 支持度是: 25\n",
      "规则: 如果一个人买了商品【苹果】，那么他可能买商品【香蕉】\n",
      " - 置信度是: 0.583\n",
      " - 支持度是: 21\n",
      "规则: 如果一个人买了商品【香蕉】，那么他可能买商品【奶酪】\n",
      " - 置信度是: 0.458\n",
      " - 支持度是: 27\n",
      "规则: 如果一个人买了商品【香蕉】，那么他可能买商品【苹果】\n",
      " - 置信度是: 0.356\n",
      " - 支持度是: 21\n",
      "规则: 如果一个人买了商品【面包】，那么他可能买商品【牛奶】\n",
      " - 置信度是: 0.519\n",
      " - 支持度是: 14\n",
      "规则: 如果一个人买了商品【面包】，那么他可能买商品【苹果】\n",
      " - 置信度是: 0.185\n",
      " - 支持度是: 5\n",
      "规则: 如果一个人买了商品【牛奶】，那么他可能买商品【面包】\n",
      " - 置信度是: 0.304\n",
      " - 支持度是: 14\n",
      "规则: 如果一个人买了商品【牛奶】，那么他可能买商品【苹果】\n",
      " - 置信度是: 0.196\n",
      " - 支持度是: 9\n",
      "规则: 如果一个人买了商品【苹果】，那么他可能买商品【面包】\n",
      " - 置信度是: 0.139\n",
      " - 支持度是: 5\n",
      "规则: 如果一个人买了商品【苹果】，那么他可能买商品【牛奶】\n",
      " - 置信度是: 0.250\n",
      " - 支持度是: 9\n",
      "规则: 如果一个人买了商品【面包】，那么他可能买商品【奶酪】\n",
      " - 置信度是: 0.148\n",
      " - 支持度是: 4\n",
      "规则: 如果一个人买了商品【奶酪】，那么他可能买商品【面包】\n",
      " - 置信度是: 0.098\n",
      " - 支持度是: 4\n",
      "规则: 如果一个人买了商品【牛奶】，那么他可能买商品【香蕉】\n",
      " - 置信度是: 0.413\n",
      " - 支持度是: 19\n",
      "规则: 如果一个人买了商品【香蕉】，那么他可能买商品【牛奶】\n",
      " - 置信度是: 0.322\n",
      " - 支持度是: 19\n",
      "规则: 如果一个人买了商品【面包】，那么他可能买商品【香蕉】\n",
      " - 置信度是: 0.630\n",
      " - 支持度是: 17\n",
      "规则: 如果一个人买了商品【香蕉】，那么他可能买商品【面包】\n",
      " - 置信度是: 0.288\n",
      " - 支持度是: 17\n",
      "规则: 如果一个人买了商品【牛奶】，那么他可能买商品【奶酪】\n",
      " - 置信度是: 0.152\n",
      " - 支持度是: 7\n",
      "规则: 如果一个人买了商品【奶酪】，那么他可能买商品【牛奶】\n",
      " - 置信度是: 0.171\n",
      " - 支持度是: 7\n"
     ]
    }
   ],
   "source": [
    "for fruit, also_fruit in confidence_degrees:\n",
    "    fruit_name = products_name[fruit]\n",
    "    also_fruit_name = products_name[also_fruit]\n",
    "    print(\"规则: 如果一个人买了商品【{0}】，那么他可能买商品【{1}】\".format(fruit_name, also_fruit_name))\n",
    "    print(\" - 置信度是: {0:.3f}\".format(confidence_degrees[(fruit, also_fruit)]))\n",
    "    print(\" - 支持度是: {0}\".format(support_degrees[(fruit, also_fruit)]))"
   ]
  },
  {
   "cell_type": "code",
   "execution_count": 63,
   "metadata": {},
   "outputs": [
    {
     "name": "stdout",
     "output_type": "stream",
     "text": [
      "规则: 如果一个人买了商品【牛奶】，那么他可能买商品【苹果】\n",
      " - 置信度是: 0.196\n",
      " - 支持度是: 9\n"
     ]
    }
   ],
   "source": [
    "def print_rule(fruit, also_fruit, support_degrees, confidence_degrees, products_name):\n",
    "    fruit_name = products_name[fruit]\n",
    "    also_fruit_name = products_name[also_fruit]\n",
    "    print(\"规则: 如果一个人买了商品【{0}】，那么他可能买商品【{1}】\".format(fruit_name, also_fruit_name))\n",
    "    print(\" - 置信度是: {0:.3f}\".format(confidence_degrees[(fruit, also_fruit)]))\n",
    "    print(\" - 支持度是: {0}\".format(support_degrees[(fruit, also_fruit)]))\n",
    "    \n",
    "print_rule(1, 3, support_degrees, confidence_degrees, products_name)"
   ]
  },
  {
   "cell_type": "markdown",
   "metadata": {},
   "source": [
    "## 排序找出最佳规则\n",
    "\n",
    "我们上面已经拿到了所有有效规则及对应的置信度和支持度，为了找出最佳规则，我们还需要根据支持度和置信度对规则进行排序。\n",
    "\n",
    "为了找出支持度最高的规则，首先对支持度字典进行排序。\n"
   ]
  },
  {
   "cell_type": "code",
   "execution_count": 66,
   "metadata": {},
   "outputs": [
    {
     "name": "stdout",
     "output_type": "stream",
     "text": [
      "[((2, 3), 25),\n",
      " ((2, 4), 27),\n",
      " ((3, 2), 25),\n",
      " ((3, 4), 21),\n",
      " ((4, 2), 27),\n",
      " ((4, 3), 21),\n",
      " ((0, 1), 14),\n",
      " ((0, 3), 5),\n",
      " ((1, 0), 14),\n",
      " ((1, 3), 9),\n",
      " ((3, 0), 5),\n",
      " ((3, 1), 9),\n",
      " ((0, 2), 4),\n",
      " ((2, 0), 4),\n",
      " ((1, 4), 19),\n",
      " ((4, 1), 19),\n",
      " ((0, 4), 17),\n",
      " ((4, 0), 17),\n",
      " ((1, 2), 7),\n",
      " ((2, 1), 7)]\n"
     ]
    }
   ],
   "source": [
    "# 排序支持度\n",
    "from pprint import pprint\n",
    "pprint(list(support_degrees.items()))"
   ]
  },
  {
   "cell_type": "code",
   "execution_count": 68,
   "metadata": {},
   "outputs": [
    {
     "name": "stdout",
     "output_type": "stream",
     "text": [
      "[((2, 4), 27), ((4, 2), 27), ((2, 3), 25), ((3, 2), 25), ((3, 4), 21), ((4, 3), 21), ((1, 4), 19), ((4, 1), 19), ((0, 4), 17), ((4, 0), 17), ((0, 1), 14), ((1, 0), 14), ((1, 3), 9), ((3, 1), 9), ((1, 2), 7), ((2, 1), 7), ((0, 3), 5), ((3, 0), 5), ((0, 2), 4), ((2, 0), 4)]\n"
     ]
    }
   ],
   "source": [
    "# 使用itemgetter() 类作为键，这样就可以对嵌套列表进行排序\n",
    "from operator import itemgetter\n",
    "# itemgetter(1)表示以字典各元素的值(这里为 支持度)作为排序依据，reverse=True表示降序排列。\n",
    "sorted_support_degrees = sorted(support_degrees.items(), key=itemgetter(1), reverse=True)\n",
    "print(sorted_support_degrees)"
   ]
  },
  {
   "cell_type": "code",
   "execution_count": 69,
   "metadata": {},
   "outputs": [
    {
     "name": "stdout",
     "output_type": "stream",
     "text": [
      "规则: #0\n",
      "规则: 如果一个人买了商品【奶酪】，那么他可能买商品【香蕉】\n",
      " - 置信度是: 0.659\n",
      " - 支持度是: 27\n",
      "规则: #1\n",
      "规则: 如果一个人买了商品【香蕉】，那么他可能买商品【奶酪】\n",
      " - 置信度是: 0.458\n",
      " - 支持度是: 27\n",
      "规则: #2\n",
      "规则: 如果一个人买了商品【奶酪】，那么他可能买商品【苹果】\n",
      " - 置信度是: 0.610\n",
      " - 支持度是: 25\n",
      "规则: #3\n",
      "规则: 如果一个人买了商品【苹果】，那么他可能买商品【奶酪】\n",
      " - 置信度是: 0.694\n",
      " - 支持度是: 25\n",
      "规则: #4\n",
      "规则: 如果一个人买了商品【苹果】，那么他可能买商品【香蕉】\n",
      " - 置信度是: 0.583\n",
      " - 支持度是: 21\n"
     ]
    }
   ],
   "source": [
    "# 排序完成之后就可以输出支持度最高的前5条\n",
    "for i in range(5):\n",
    "    print(\"规则: #{0}\".format(i))\n",
    "    fruit, also_fruit = sorted_support_degrees[i][0]\n",
    "    print_rule(fruit, also_fruit, support_degrees, confidence_degrees, products_name)"
   ]
  },
  {
   "cell_type": "code",
   "execution_count": 71,
   "metadata": {},
   "outputs": [
    {
     "name": "stdout",
     "output_type": "stream",
     "text": [
      "[((3, 2), 0.6944444444444444), ((2, 4), 0.6585365853658537), ((0, 4), 0.6296296296296297), ((2, 3), 0.6097560975609756), ((3, 4), 0.5833333333333334), ((0, 1), 0.5185185185185185), ((4, 2), 0.4576271186440678), ((1, 4), 0.41304347826086957), ((4, 3), 0.3559322033898305), ((4, 1), 0.3220338983050847), ((1, 0), 0.30434782608695654), ((4, 0), 0.288135593220339), ((3, 1), 0.25), ((1, 3), 0.1956521739130435), ((0, 3), 0.18518518518518517), ((2, 1), 0.17073170731707318), ((1, 2), 0.15217391304347827), ((0, 2), 0.14814814814814814), ((3, 0), 0.1388888888888889), ((2, 0), 0.0975609756097561)]\n"
     ]
    }
   ],
   "source": [
    "'''\n",
    "同理我们还可以输出置信度最高的规则，首先对置信度进行排序\n",
    "'''\n",
    "sorted_confidence_degrees = sorted(confidence_degrees.items(), key=itemgetter(1), reverse=True)\n",
    "print(sorted_confidence_degrees)"
   ]
  },
  {
   "cell_type": "code",
   "execution_count": 72,
   "metadata": {},
   "outputs": [
    {
     "name": "stdout",
     "output_type": "stream",
     "text": [
      "规则: #0\n",
      "规则: 如果一个人买了商品【苹果】，那么他可能买商品【奶酪】\n",
      " - 置信度是: 0.694\n",
      " - 支持度是: 25\n",
      "规则: #1\n",
      "规则: 如果一个人买了商品【奶酪】，那么他可能买商品【香蕉】\n",
      " - 置信度是: 0.659\n",
      " - 支持度是: 27\n",
      "规则: #2\n",
      "规则: 如果一个人买了商品【面包】，那么他可能买商品【香蕉】\n",
      " - 置信度是: 0.630\n",
      " - 支持度是: 17\n",
      "规则: #3\n",
      "规则: 如果一个人买了商品【奶酪】，那么他可能买商品【苹果】\n",
      " - 置信度是: 0.610\n",
      " - 支持度是: 25\n",
      "规则: #4\n",
      "规则: 如果一个人买了商品【苹果】，那么他可能买商品【香蕉】\n",
      " - 置信度是: 0.583\n",
      " - 支持度是: 21\n"
     ]
    }
   ],
   "source": [
    "# 排序完成之后就可以输出置信度最高的前5条\n",
    "for i in range(5):\n",
    "    print(\"规则: #{0}\".format(i))\n",
    "    fruit, also_fruit = sorted_confidence_degrees[i][0]\n",
    "    print_rule(fruit, also_fruit, support_degrees, confidence_degrees, products_name)"
   ]
  },
  {
   "cell_type": "markdown",
   "metadata": {},
   "source": [
    "从排序结果来看，“顾客买苹果，也会买奶酪”和“顾客买奶酪，也会买香蕉”，这两条规则的支持度和置信度都很高。\n",
    "超市经理可以根据这些规则来调整商品摆放位置。\n",
    "例如，如果本周苹果促销，就在旁边摆上奶酪。\n",
    "但是香蕉和奶酪同时搞促销就没有多大意义了，因为我们发现购买奶酪的顾客中，接近66%的人即使不搞促销也会买香蕉——即使搞促销，也不会给销量带来多大提升"
   ]
  }
 ],
 "metadata": {
  "kernelspec": {
   "display_name": "Python 3",
   "language": "python",
   "name": "python3"
  },
  "language_info": {
   "codemirror_mode": {
    "name": "ipython",
    "version": 3
   },
   "file_extension": ".py",
   "mimetype": "text/x-python",
   "name": "python",
   "nbconvert_exporter": "python",
   "pygments_lexer": "ipython3",
   "version": "3.6.5"
  },
  "widgets": {
   "application/vnd.jupyter.widget-state+json": {
    "state": {},
    "version_major": 2,
    "version_minor": 0
   }
  }
 },
 "nbformat": 4,
 "nbformat_minor": 2
}
